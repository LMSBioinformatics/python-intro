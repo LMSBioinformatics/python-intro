{
 "cells": [
  {
   "cell_type": "markdown",
   "metadata": {
    "slideshow": {
     "slide_type": "slide"
    }
   },
   "source": [
    "# An introduction to solving biological problems with Python\n",
    "\n",
    "- Our course webpage: http://pycam.github.io\n",
    "- Python website: https://www.python.org/ \n",
    "- [Python 3 Standard Library](https://docs.python.org/3/library/index.html])"
   ]
  },
  {
   "cell_type": "markdown",
   "metadata": {
    "slideshow": {
     "slide_type": "slide"
    }
   },
   "source": [
    "## Learning objectives\n",
    "\n",
    "- **Recall** what we've learned so far on variables, common data types, conditions and loops\n",
    "- **Propose and create** solutions using these concepts in an exercise\n",
    "- **Employ** functions and modules to reuse code\n",
    "- **Practice** reading and writing files with Python\n",
    "- **Use** third-party library BioPython\n",
    "- **Solve** more complex exercises"
   ]
  },
  {
   "cell_type": "code",
   "execution_count": null,
   "metadata": {
    "collapsed": true,
    "slideshow": {
     "slide_type": "slide"
    }
   },
   "outputs": [],
   "source": [
    "## Course schedule - day two\n",
    "\n",
    "- 10:00-10:30: [1h00] **Introduction** - What we've learned so far...\n",
    "- 10:30-10:45: *break*\n",
    "- 10:45-11:45: [1h00] **Session 2.1** - Functions\n",
    "- 11:45-12:00: *break*\n",
    "- 12:00-13:00: [1h00] **Session 2.2** - Exercices and Modules\n",
    "- 13:00-14:00: *lunch break*\n",
    "- 14:00-15:30: [1h30] **Session 2.3** - Files\n",
    "- 15:30-15:45: *break*\n",
    "- 15:45-16:45: [1h00] **Session 2.4** - BioPython"
   ]
  },
  {
   "cell_type": "markdown",
   "metadata": {
    "slideshow": {
     "slide_type": "slide"
    }
   },
   "source": [
    "## What we've learned so far\n",
    "\n",
    "- Simple data types, Collections\n",
    "- Conditional execution\n",
    "- Loops\n",
    "- Functions used so far..."
   ]
  },
  {
   "cell_type": "markdown",
   "metadata": {
    "slideshow": {
     "slide_type": "slide"
    }
   },
   "source": [
    "## Collections"
   ]
  },
  {
   "cell_type": "code",
   "execution_count": null,
   "metadata": {
    "collapsed": false,
    "slideshow": {
     "slide_type": "subslide"
    }
   },
   "outputs": [],
   "source": [
    "## Tuple - immutable\n",
    "example_tuple = (2, 3, 4, 5)\n",
    "print 'A tuple:', example_tuple\n",
    "print 'First element of tuple:', example_tuple[0]"
   ]
  },
  {
   "cell_type": "code",
   "execution_count": null,
   "metadata": {
    "collapsed": false,
    "slideshow": {
     "slide_type": "subslide"
    }
   },
   "outputs": [],
   "source": [
    "## List\n",
    "example_list = [2, 3, 4, 5]\n",
    "print 'A list:', example_list\n",
    "print 'First element of list:', example_list[0]\n",
    "example_list.append(12)\n",
    "print 'Appended list:', example_list\n",
    "example_list[0] = 45\n",
    "print 'Modified list:', example_list"
   ]
  },
  {
   "cell_type": "code",
   "execution_count": null,
   "metadata": {
    "collapsed": false,
    "slideshow": {
     "slide_type": "subslide"
    }
   },
   "outputs": [],
   "source": [
    "## String - immutable, tuple of characters\n",
    "text = \"ATGTCATTT\"\n",
    "print 'Here is a string:', text \n",
    "print 'First character:', text[0] \n",
    "print 'Number of characters in text', len(text)"
   ]
  },
  {
   "cell_type": "code",
   "execution_count": null,
   "metadata": {
    "collapsed": false,
    "slideshow": {
     "slide_type": "subslide"
    }
   },
   "outputs": [],
   "source": [
    "## Set - unique unordered elements\n",
    "example_set = set([1,2,2,2,2,4,5,6,6,6])\n",
    "print 'A set:', example_set"
   ]
  },
  {
   "cell_type": "code",
   "execution_count": null,
   "metadata": {
    "collapsed": false,
    "slideshow": {
     "slide_type": "subslide"
    }
   },
   "outputs": [],
   "source": [
    "## Dictionary\n",
    "example_dictionary = {\"A\": \"Adenine\", \n",
    "                      \"C\": \"Cytosine\", \n",
    "                      \"G\": \"Guanine\", \n",
    "                      \"T\": \"Thymine\"}\n",
    "print 'A dictionary:', example_dictionary\n",
    "print 'Value associated to key C:', example_dictionary['C']"
   ]
  },
  {
   "cell_type": "markdown",
   "metadata": {
    "slideshow": {
     "slide_type": "slide"
    }
   },
   "source": [
    "## Conditional execution"
   ]
  },
  {
   "cell_type": "code",
   "execution_count": null,
   "metadata": {
    "collapsed": false
   },
   "outputs": [],
   "source": [
    "x = 2\n",
    "print 'Is 2 < 5?', x < 5\n",
    "print 'Is 2 == 5?', x == 5\n",
    "print 'Is 2 < 5 and 2 > 1?', (x < 5) & (x > 1)\n",
    "\n",
    "if x == 2:\n",
    "    print 'x is equal to 2'"
   ]
  },
  {
   "cell_type": "markdown",
   "metadata": {
    "slideshow": {
     "slide_type": "slide"
    }
   },
   "source": [
    "## Loops"
   ]
  },
  {
   "cell_type": "code",
   "execution_count": null,
   "metadata": {
    "collapsed": false,
    "slideshow": {
     "slide_type": "-"
    }
   },
   "outputs": [],
   "source": [
    "example_list = ['A', 'C', 'A', 'T', 'G']\n",
    "\n",
    "## Looping through a list\n",
    "for element in example_list:\n",
    "    print \"The element in list is:\", element"
   ]
  },
  {
   "cell_type": "code",
   "execution_count": null,
   "metadata": {
    "collapsed": false,
    "slideshow": {
     "slide_type": "subslide"
    }
   },
   "outputs": [],
   "source": [
    "example_list = ['A', 'C', 'A', 'T', 'G']\n",
    "\n",
    "## Looping through list of indices using range() method\n",
    "for index in range(len(example_list)):\n",
    "    print \"The index in loop is\", index, 'and its corresponding element is in the list', example_list[index]"
   ]
  },
  {
   "cell_type": "markdown",
   "metadata": {
    "collapsed": false,
    "slideshow": {
     "slide_type": "subslide"
    }
   },
   "source": [
    "## Looping using enumerate()\n",
    "example_list = ['A', 'C', 'A', 'T', 'G']\n",
    "example_dictionary = {\"A\": \"Adenine\", \"C\": \"Cytosine\", \"G\": \"Guanine\", \"T\": \"Thymine\"}\n",
    "\n",
    "for index, value in enumerate(example_list):\n",
    "    if value == 'A':\n",
    "        print value, \"found, the corresponding value is\", example_dictionary[value], 'for item at position', index\n",
    "    elif value == 'T':\n",
    "        print value, \"found, the corresponding value is\", example_dictionary[value], 'for item at position', index\n",
    "    else:\n",
    "        print \"Other value\", 'for item at position', index"
   ]
  },
  {
   "cell_type": "markdown",
   "metadata": {
    "slideshow": {
     "slide_type": "slide"
    }
   },
   "source": [
    "## Functions used so far..."
   ]
  },
  {
   "cell_type": "code",
   "execution_count": null,
   "metadata": {
    "collapsed": false
   },
   "outputs": [],
   "source": [
    "example_list = ['A', 'C', 'A', 'T', 'G']\n",
    "print 'There are', len(example_list), 'elements in the list', example_list\n",
    "print \"ATG TCA CCG GGC\".split()"
   ]
  },
  {
   "cell_type": "markdown",
   "metadata": {
    "slideshow": {
     "slide_type": "slide"
    }
   },
   "source": [
    "## Next session\n",
    "\n",
    "Go to our next notebook: [Introduction_to_python_day_2_session_1](Introduction_to_python_day_2_session_1.ipynb)"
   ]
  }
 ],
 "metadata": {
  "celltoolbar": "Slideshow",
  "kernelspec": {
   "display_name": "Python 2",
   "language": "python",
   "name": "python2"
  },
  "language_info": {
   "codemirror_mode": {
    "name": "ipython",
    "version": 2
   },
   "file_extension": ".py",
   "mimetype": "text/x-python",
   "name": "python",
   "nbconvert_exporter": "python",
   "pygments_lexer": "ipython2",
   "version": "2.7.11"
  }
 },
 "nbformat": 4,
 "nbformat_minor": 0
}
